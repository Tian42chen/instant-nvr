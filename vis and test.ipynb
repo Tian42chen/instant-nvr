{
 "cells": [
  {
   "cell_type": "code",
   "execution_count": null,
   "metadata": {},
   "outputs": [],
   "source": [
    "import os\n",
    "import numpy as np\n",
    "import matplotlib.pyplot as plt\n",
    "from mpl_toolkits.mplot3d import Axes3D\n",
    "import imageio.v2 as iio\n",
    "import cv2\n",
    "# import open3d as o3d\n",
    "import torch"
   ]
  },
  {
   "cell_type": "code",
   "execution_count": null,
   "metadata": {},
   "outputs": [],
   "source": [
    "def get_bounds(xyz):\n",
    "    min_xyz = np.min(xyz, axis=0)\n",
    "    max_xyz = np.max(xyz, axis=0)\n",
    "    min_xyz -= 0.05\n",
    "    max_xyz += 0.05\n",
    "    bounds = np.stack([min_xyz, max_xyz], axis=0)\n",
    "    bounds = bounds.astype(np.float32)\n",
    "    return bounds\n",
    "\n",
    "def convert_bound_2to8(bound):\n",
    "    start, end=bound\n",
    "    x = [start[0], end[0], end[0], start[0], start[0], end[0], end[0], start[0]]\n",
    "    y = [start[1], start[1], end[1], end[1], start[1], start[1], end[1], end[1]]\n",
    "    z = [start[2], start[2], start[2], start[2], end[2], end[2], end[2], end[2]]\n",
    "    return np.array(list(zip(x, y, z)))\n",
    "\n",
    "def bound2ret(bound, ax):\n",
    "    corners = convert_bound_2to8(bound)\n",
    "\n",
    "    # 绘制长方体的边\n",
    "    edges = [(0, 1), (1, 2), (2, 3), (3, 0), (4, 5), (5, 6), (6, 7), (7, 4), (0, 4), (1, 5), (2, 6), (3, 7)]\n",
    "    for edge in edges:\n",
    "        ax.plot([corners[edge[0]][0], corners[edge[1]][0]], \n",
    "                [corners[edge[0]][1], corners[edge[1]][1]], \n",
    "                [corners[edge[0]][2], corners[edge[1]][2]], 'b-')"
   ]
  },
  {
   "cell_type": "code",
   "execution_count": null,
   "metadata": {},
   "outputs": [],
   "source": [
    "debug_root='debug/beat_matching/'\n",
    "\n",
    "matching_items = ['mask_at_box']\n",
    "ohter = 'test-zjumocap'\n",
    "\n",
    "mask_at_box_beats = np.load(f'{debug_root}mask_at_box-beats.npy').reshape(512,512)\n",
    "mask_at_box_ohter = np.load(f'{debug_root}mask_at_box-{ohter}.npy').reshape(512,512)\n",
    "\n",
    "print(mask_at_box_beats.shape)\n",
    "print(mask_at_box_ohter.shape)"
   ]
  },
  {
   "cell_type": "code",
   "execution_count": null,
   "metadata": {},
   "outputs": [],
   "source": [
    "data_path = 'debug/youtube/'\n",
    "# data_path = 'debug/h36m-small/'\n",
    "bounds = np.load(f'{data_path}bounds.npy')\n",
    "tpose = np.load(f'{data_path}tpose.npy')\n",
    "batch_ppts = np.load(f'{data_path}batch_ppts.npy')\n",
    "batch_wpts = np.load(f'{data_path}batch_wpts.npy')\n",
    "batch_wbounds = np.load(f'{data_path}batch_wbounds.npy')\n",
    "batch_ray_o=np.load(f'{data_path}batch_ray_o.npy')\n",
    "batch_ray_d=np.load(f'{data_path}batch_ray_d.npy')\n",
    "batch_near=np.load(f'{data_path}batch_near.npy')\n",
    "batch_far=np.load(f'{data_path}batch_far.npy')\n",
    "\n",
    "# wpts = np.load(f'{data_path}wpts.npy')\n",
    "# ray_o = np.load(f'{data_path}ray_o.npy')\n",
    "# ray_d = np.load(f'{data_path}ray_d.npy')\n",
    "# nerf_near = np.load(f'{data_path}nerf_near.npy')\n",
    "# nerf_far = np.load(f'{data_path}nerf_far.npy')\n",
    "\n",
    "mask_at_box = np.load(f'{data_path}mask_at_box.npy')\n",
    "frame_index = np.load(f'{data_path}frame_index.npy')"
   ]
  },
  {
   "cell_type": "code",
   "execution_count": null,
   "metadata": {},
   "outputs": [],
   "source": [
    "print(frame_index)"
   ]
  },
  {
   "cell_type": "code",
   "execution_count": null,
   "metadata": {},
   "outputs": [],
   "source": [
    "print(mask_at_box.min())\n",
    "mask_at_box_len = np.sqrt(mask_at_box.shape[0]).astype(np.int32)\n",
    "mask_at_box_img = mask_at_box.reshape(mask_at_box_len, mask_at_box_len)\n",
    "print(mask_at_box_img.shape)\n",
    "plt.imshow(mask_at_box_img)\n",
    "plt.show()"
   ]
  },
  {
   "cell_type": "code",
   "execution_count": null,
   "metadata": {},
   "outputs": [],
   "source": [
    "print(batch_wpts.shape)\n",
    "print(wpts.shape)"
   ]
  },
  {
   "cell_type": "code",
   "execution_count": null,
   "metadata": {},
   "outputs": [],
   "source": [
    "# tpose_path = 'data/zju-mocap/my_377/smpl_lbs/bigpose_vertices.npy'\n",
    "# tpose_path = 'data/test-zjumocap/smpl_lbs/bigpose_vertices.npy'\n",
    "# tpose_path = 'tools/S9tpose.npy'\n",
    "# tpose_path = 'data/h36m/small/smpl_lbs/bigpose_vertices.npy'\n",
    "# tpose_path = 'data/h36m/S9/smpl_lbs/bigpose_vertices.npy'\n",
    "# tpose = np.load(tpose_path)"
   ]
  },
  {
   "cell_type": "code",
   "execution_count": null,
   "metadata": {},
   "outputs": [],
   "source": [
    "batch_nerf_near_pts=batch_ray_o+batch_ray_d[:,:]*batch_near[:, None]\n",
    "batch_nerf_far_pts=batch_ray_o+batch_ray_d[:,:]*batch_far[:, None]\n",
    "print(batch_nerf_near_pts.shape)\n",
    "print(batch_nerf_far_pts.shape)"
   ]
  },
  {
   "cell_type": "code",
   "execution_count": null,
   "metadata": {},
   "outputs": [],
   "source": [
    "nerf_near_pts=ray_o+ray_d*nerf_near[:, :, None]\n",
    "nerf_far_pts=ray_o+ray_d*nerf_far[:, :, None]\n",
    "print(nerf_near_pts.shape)\n",
    "print(nerf_far_pts.shape)"
   ]
  },
  {
   "cell_type": "code",
   "execution_count": null,
   "metadata": {},
   "outputs": [],
   "source": [
    "# 创建3D图形\n",
    "fig = plt.figure()\n",
    "ax = fig.add_subplot(111, projection='3d')\n",
    "\n",
    "# world points #\n",
    "\n",
    "# sample\n",
    "# ax.scatter(w_pts[:, 0], w_pts[:, 1], w_pts[:, 2], c='tab:red', marker='o')\n",
    "\n",
    "# near sample\n",
    "# ax.scatter(nerf_near_pts[:, :, 0], nerf_near_pts[:, :, 1], nerf_near_pts[:, :, 2], c='tab:blue', marker='.')\n",
    "\n",
    "# far sample\n",
    "# ax.scatter(nerf_far_pts[:, :, 0], nerf_far_pts[:, :, 1], nerf_far_pts[:, :, 2], c='tab:green', marker='.')\n",
    "\n",
    "# near sample\n",
    "ax.scatter(batch_nerf_near_pts[:, 0], batch_nerf_near_pts[:, 1], batch_nerf_near_pts[:, 2], c='tab:red', marker='.', alpha=0.1)\n",
    "\n",
    "# # far sample\n",
    "ax.scatter(batch_nerf_far_pts[:, 0], batch_nerf_far_pts[:, 1], batch_nerf_far_pts[:, 2], c='tab:green', marker='.', alpha=0.1)\n",
    "\n",
    "# world points\n",
    "ax.scatter(batch_wpts[:, 0], batch_wpts[:, 1], batch_wpts[:, 2], c='tab:blue', marker='o')\n",
    "\n",
    "# ray_o\n",
    "# ax.scatter(O[0], O[1], O[2], c='green', marker='1', s=500)\n",
    "\n",
    "# world bounds\n",
    "# ax.scatter(batch_wbounds[:, 0], batch_wbounds[:, 1], batch_wbounds[:, 2], c='black', marker='^')\n",
    "\n",
    "# pose points #\n",
    "# tpose points\n",
    "# ax.scatter(tpose[:, 0], tpose[:, 1], tpose[:, 2], c='tab:blue', marker='o')\n",
    "# ax.scatter(tpose_bounds[:, 0], tpose_bounds[:, 1], tpose_bounds[:, 2], c='black', marker='^')\n",
    "\n",
    "# pose points\n",
    "# ax.scatter(batch_ppts[:, 0], batch_ppts[:, 1], batch_ppts[:, 2], c='tab:blue', marker='o')\n",
    "\n",
    "# pbounds\n",
    "# ax.scatter(batch_pbounds[:, 0], batch_pbounds[:, 1], batch_pbounds[:, 2], c='black', marker='^')\n",
    "\n",
    "# sample pose points\n",
    "# ax.scatter(p_pts[:, 0], p_pts[:, 1], p_pts[:, 2], c='tab:red', marker='o')\n",
    "\n",
    "# 绘制pts_bounds\n",
    "# ax.scatter(pts_bounds[:, 0], pts_bounds[:, 1], pts_bounds[:, 2], c='r', marker='o')\n",
    "\n",
    "# 绘制pbounds\n",
    "# ax.scatter(p_bounds[:, 0], p_bounds[:, 1], p_bounds[:, 2], c='b', marker='^')\n",
    "\n",
    "# for label, part_bound in bbox.items():\n",
    "#     if label != 'body' : continue\n",
    "#     verts=convert_bound_2to8(part_bound)\n",
    "#     ax.scatter(verts[:,0], verts[:,1], verts[:,2], c='green', marker='o')\n",
    "\n",
    "# for i in range(5):\n",
    "#     if i!=0: continue\n",
    "#     verts=convert_bound_2to8(extra_bounds[i])\n",
    "#     ax.scatter(verts[:,0], verts[:,1], verts[:,2], c='red', marker='o')\n",
    "#     break\n",
    "\n",
    "\n",
    "# for label, (start, end) in bbox.items():\n",
    "#     ax.scatter(start[0], start[1], start[2], c='r', marker='o')\n",
    "#     ax.scatter(end[0], end[1], end[2], c='r', marker='o')\n",
    "\n",
    "bound2ret(batch_wbounds, ax)\n",
    "\n",
    "# i=0\n",
    "# part_bounds = [bounds[0], bounds[1]]\n",
    "# for bound in part_bounds:\n",
    "#     bound2ret(bound, ax)\n",
    "\n",
    "# ax.view_init(-90, 90)\n",
    "# ax.view_init(0, 0)\n",
    "# ax.view_init(0, 90)\n",
    "# 设置坐标轴标签\n",
    "ax.set_aspect('equal')\n",
    "ax.set_xlabel('X')\n",
    "ax.set_ylabel('Y')\n",
    "ax.set_zlabel('Z')\n",
    "\n",
    "# 显示图形\n",
    "plt.show()"
   ]
  }
 ],
 "metadata": {
  "kernelspec": {
   "display_name": "instant-nvr",
   "language": "python",
   "name": "python3"
  },
  "language_info": {
   "codemirror_mode": {
    "name": "ipython",
    "version": 3
   },
   "file_extension": ".py",
   "mimetype": "text/x-python",
   "name": "python",
   "nbconvert_exporter": "python",
   "pygments_lexer": "ipython3",
   "version": "3.9.18"
  },
  "orig_nbformat": 4
 },
 "nbformat": 4,
 "nbformat_minor": 2
}
